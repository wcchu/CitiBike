{
 "cells": [
  {
   "cell_type": "code",
   "execution_count": 1,
   "id": "965f4f27-7029-4fec-9661-35885995af3c",
   "metadata": {},
   "outputs": [],
   "source": [
    "import numpy as np\n",
    "import pandas as pd\n",
    "\n",
    "from sklearn.model_selection import train_test_split\n",
    "from sklearn.model_selection import cross_val_score\n",
    "from sklearn.preprocessing import StandardScaler\n",
    "from sklearn.metrics import zero_one_loss\n",
    "from sklearn.metrics import mean_absolute_error\n",
    "from sklearn.metrics import mean_squared_error\n",
    "\n",
    "# ML algs\n",
    "from sklearn.ensemble import RandomForestClassifier\n",
    "from sklearn.ensemble import RandomForestRegressor\n",
    "from sklearn.neighbors import KNeighborsRegressor\n",
    "from sklearn.neural_network import MLPRegressor"
   ]
  },
  {
   "cell_type": "markdown",
   "id": "d9162d70-0bf3-4f23-ac40-a98760068003",
   "metadata": {},
   "source": [
    "# Data preparation\n",
    "We plan to predict the user type (subscriber or customer) and the duration of trip using a few given features."
   ]
  },
  {
   "cell_type": "code",
   "execution_count": 2,
   "id": "2cb2cca6-6902-48fa-b712-c4380640e8c9",
   "metadata": {},
   "outputs": [
    {
     "data": {
      "text/html": [
       "<div>\n",
       "<style scoped>\n",
       "    .dataframe tbody tr th:only-of-type {\n",
       "        vertical-align: middle;\n",
       "    }\n",
       "\n",
       "    .dataframe tbody tr th {\n",
       "        vertical-align: top;\n",
       "    }\n",
       "\n",
       "    .dataframe thead th {\n",
       "        text-align: right;\n",
       "    }\n",
       "</style>\n",
       "<table border=\"1\" class=\"dataframe\">\n",
       "  <thead>\n",
       "    <tr style=\"text-align: right;\">\n",
       "      <th></th>\n",
       "      <th>lat</th>\n",
       "      <th>lon</th>\n",
       "      <th>wday</th>\n",
       "      <th>hour</th>\n",
       "      <th>usertype</th>\n",
       "      <th>trip_dur</th>\n",
       "    </tr>\n",
       "  </thead>\n",
       "  <tbody>\n",
       "    <tr>\n",
       "      <th>0</th>\n",
       "      <td>40.736245</td>\n",
       "      <td>-73.984738</td>\n",
       "      <td>1</td>\n",
       "      <td>20</td>\n",
       "      <td>Subscriber</td>\n",
       "      <td>5.216667</td>\n",
       "    </tr>\n",
       "    <tr>\n",
       "      <th>1</th>\n",
       "      <td>40.730477</td>\n",
       "      <td>-73.999061</td>\n",
       "      <td>4</td>\n",
       "      <td>8</td>\n",
       "      <td>Subscriber</td>\n",
       "      <td>6.116667</td>\n",
       "    </tr>\n",
       "    <tr>\n",
       "      <th>2</th>\n",
       "      <td>40.735354</td>\n",
       "      <td>-74.004831</td>\n",
       "      <td>4</td>\n",
       "      <td>8</td>\n",
       "      <td>Subscriber</td>\n",
       "      <td>15.950000</td>\n",
       "    </tr>\n",
       "    <tr>\n",
       "      <th>3</th>\n",
       "      <td>40.760193</td>\n",
       "      <td>-73.991255</td>\n",
       "      <td>3</td>\n",
       "      <td>22</td>\n",
       "      <td>Subscriber</td>\n",
       "      <td>15.450000</td>\n",
       "    </tr>\n",
       "    <tr>\n",
       "      <th>4</th>\n",
       "      <td>40.711464</td>\n",
       "      <td>-74.005524</td>\n",
       "      <td>6</td>\n",
       "      <td>7</td>\n",
       "      <td>Subscriber</td>\n",
       "      <td>11.583333</td>\n",
       "    </tr>\n",
       "  </tbody>\n",
       "</table>\n",
       "</div>"
      ],
      "text/plain": [
       "         lat        lon  wday  hour    usertype   trip_dur\n",
       "0  40.736245 -73.984738     1    20  Subscriber   5.216667\n",
       "1  40.730477 -73.999061     4     8  Subscriber   6.116667\n",
       "2  40.735354 -74.004831     4     8  Subscriber  15.950000\n",
       "3  40.760193 -73.991255     3    22  Subscriber  15.450000\n",
       "4  40.711464 -74.005524     6     7  Subscriber  11.583333"
      ]
     },
     "execution_count": 2,
     "metadata": {},
     "output_type": "execute_result"
    }
   ],
   "source": [
    "dat = pd.read_csv('../data.csv', parse_dates=['starttime', 'stoptime']).rename(columns={\n",
    "    'start.station.latitude': 'lat',\n",
    "    'start.station.longitude': 'lon'\n",
    "    })\n",
    "\n",
    "# define day of week, hour of day, and day-time of week for the starting time\n",
    "dat['wday'] = dat['starttime'].dt.dayofweek\n",
    "dat['hour'] = dat['starttime'].dt.hour\n",
    "dat['wdaytime'] = dat['wday'] + dat['hour']/24.0\n",
    "\n",
    "# duration of trip: convert seconds to minutes\n",
    "dat['trip_dur'] = dat['tripduration']/60.0\n",
    "\n",
    "# predictors: lat, lon, wday, and hour\n",
    "# labels: usertype (class) and trip_dur (numeric)\n",
    "dat = dat[['lat', 'lon', 'wday', 'hour', 'usertype', 'trip_dur']]\n",
    "dat.head()"
   ]
  },
  {
   "cell_type": "code",
   "execution_count": 3,
   "id": "79770abb-4800-4f27-a0dd-82b4565e4d73",
   "metadata": {},
   "outputs": [
    {
     "name": "stdout",
     "output_type": "stream",
     "text": [
      "Class counts for usertype:\n",
      "usertype\n",
      "Subscriber    43781\n",
      "Customer       6219\n",
      "Name: count, dtype: int64\n",
      "\n",
      "Distribution of trip_dur:\n",
      "count    50000.000000\n",
      "mean        14.311048\n",
      "std         14.348527\n",
      "min          1.000000\n",
      "25%          6.800000\n",
      "50%         10.816667\n",
      "75%         17.833333\n",
      "max        346.200000\n",
      "Name: trip_dur, dtype: float64\n"
     ]
    }
   ],
   "source": [
    "# predictors\n",
    "X = dat[['lat', 'lon', 'wday', 'hour']]\n",
    "\n",
    "# label for classification\n",
    "Y = dat['usertype']\n",
    "print('Class counts for usertype:\\n{}'.format(Y.value_counts(dropna=False)))\n",
    "\n",
    "# label for regression\n",
    "Z = dat['trip_dur']\n",
    "print('\\nDistribution of trip_dur:\\n{}'.format(Z.describe()))"
   ]
  },
  {
   "cell_type": "markdown",
   "id": "3cdd89b9-27df-4f09-99d7-ebc112fb7a3e",
   "metadata": {},
   "source": [
    "# Train classifier to predict usertype"
   ]
  },
  {
   "cell_type": "code",
   "execution_count": 4,
   "id": "a60c1605-5f50-4fbf-a6fa-7d06338f9ed7",
   "metadata": {},
   "outputs": [
    {
     "name": "stdout",
     "output_type": "stream",
     "text": [
      "Accuracy 0.8780499998475664 +/- 4.3114758167406825e-06\n"
     ]
    }
   ],
   "source": [
    "# split training and test data to predict Y (usertype)\n",
    "Xy_train, Xy_test, Y_train, Y_test = train_test_split(\n",
    "    X, Y, test_size=0.2, random_state=1)\n",
    "\n",
    "# normalize data for Y\n",
    "scaler_y = StandardScaler()\n",
    "scaler_y.fit(Xy_train)\n",
    "Xy_train_scaled = scaler_y.transform(Xy_train)\n",
    "Xy_test_scaled = scaler_y.transform(Xy_test)\n",
    "\n",
    "# create model\n",
    "model_y = RandomForestClassifier(max_depth=2, max_samples=0.5, random_state=0)\n",
    "\n",
    "# train model\n",
    "model_y.fit(Xy_train_scaled, Y_train)\n",
    "\n",
    "# score trained model with cross validation\n",
    "model_y_cv_scores = cross_val_score(model_y, Xy_train_scaled, Y_train, cv=3)\n",
    "\n",
    "# mean and deviation of accuracy in cv\n",
    "print('Accuracy {} +/- {}'.format(np.mean(model_y_cv_scores), np.std(model_y_cv_scores)))"
   ]
  },
  {
   "cell_type": "code",
   "execution_count": 5,
   "id": "fcc8ad95-ed7b-42d8-b115-c57710fb2777",
   "metadata": {},
   "outputs": [
    {
     "name": "stdout",
     "output_type": "stream",
     "text": [
      "Classification error rate = 0.1341\n"
     ]
    }
   ],
   "source": [
    "Y_pred = model_y.predict(Xy_test_scaled)\n",
    "model_y_error_rate = zero_one_loss(Y_test, Y_pred, normalize=True)\n",
    "print('Classification error rate = {}'.format(model_y_error_rate))"
   ]
  },
  {
   "cell_type": "markdown",
   "id": "716b2dd7-ec3f-4881-ba8c-609ae95cdd62",
   "metadata": {},
   "source": [
    "# Train regressor to predict trip_dur"
   ]
  },
  {
   "cell_type": "code",
   "execution_count": 6,
   "id": "ae78b473-820a-4fea-820d-cc4976f71cb2",
   "metadata": {},
   "outputs": [
    {
     "name": "stdout",
     "output_type": "stream",
     "text": [
      "Accuracy 0.04054042227435987 +/- 0.005343509423974904\n"
     ]
    }
   ],
   "source": [
    "# split training and test data to predict Z (trip_dur)\n",
    "Xz_train, Xz_test, Z_train, Z_test = train_test_split(\n",
    "    X, Z, test_size=0.2, random_state=1)\n",
    "\n",
    "# normalize data for Z\n",
    "scaler_z = StandardScaler()\n",
    "scaler_z.fit(Xz_train)\n",
    "Xz_train_scaled = scaler_z.transform(Xz_train)\n",
    "Xz_test_scaled = scaler_z.transform(Xz_test)\n",
    "\n",
    "# create model\n",
    "model_z = MLPRegressor(hidden_layer_sizes=(50, 25, ),\n",
    "                       activation='relu',\n",
    "                       alpha=0.0001,\n",
    "                       max_iter=300,\n",
    "                       random_state=0)\n",
    "# model_z = KNeighborsRegressor(n_neighbors=500)\n",
    "# model_z = RandomForestRegressor(max_depth=6, max_samples=0.5, random_state=0)\n",
    "\n",
    "# train model\n",
    "model_z.fit(Xz_train_scaled, Z_train)\n",
    "\n",
    "# score trained model with cross validation\n",
    "model_z_cv_scores = cross_val_score(model_z, Xz_train_scaled, Z_train, cv=3)\n",
    "\n",
    "# mean and deviation of accuracy in cv\n",
    "print('Accuracy {} +/- {}'.format(np.mean(model_z_cv_scores), np.std(model_z_cv_scores)))"
   ]
  },
  {
   "cell_type": "code",
   "execution_count": 7,
   "id": "56a627d6-bdc1-4642-827b-491d01eb5c75",
   "metadata": {},
   "outputs": [
    {
     "name": "stdout",
     "output_type": "stream",
     "text": [
      "Regression MAE = 7.836058693051617, MSE = 214.93003663634136\n"
     ]
    }
   ],
   "source": [
    "Z_pred = model_z.predict(Xz_test_scaled)\n",
    "model_z_mae = mean_absolute_error(Z_test, Z_pred)\n",
    "model_z_mse = mean_squared_error(Z_test, Z_pred)\n",
    "print('Regression MAE = {}, MSE = {}'.format(model_z_mae, model_z_mse))"
   ]
  }
 ],
 "metadata": {
  "kernelspec": {
   "display_name": "Python 3 (ipykernel)",
   "language": "python",
   "name": "python3"
  },
  "language_info": {
   "codemirror_mode": {
    "name": "ipython",
    "version": 3
   },
   "file_extension": ".py",
   "mimetype": "text/x-python",
   "name": "python",
   "nbconvert_exporter": "python",
   "pygments_lexer": "ipython3",
   "version": "3.10.12"
  }
 },
 "nbformat": 4,
 "nbformat_minor": 5
}
