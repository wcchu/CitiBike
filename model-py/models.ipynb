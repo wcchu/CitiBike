{
 "cells": [
  {
   "cell_type": "code",
   "execution_count": 1,
   "id": "965f4f27-7029-4fec-9661-35885995af3c",
   "metadata": {},
   "outputs": [],
   "source": [
    "import numpy as np\n",
    "import pandas as pd\n",
    "import matplotlib.pyplot as plt\n",
    "\n",
    "from sklearn.model_selection import train_test_split\n",
    "from sklearn.model_selection import cross_val_score\n",
    "from sklearn.preprocessing import StandardScaler\n",
    "from sklearn.metrics import zero_one_loss\n",
    "from sklearn.metrics import mean_absolute_error\n",
    "from sklearn.metrics import mean_squared_error\n",
    "from sklearn.metrics import confusion_matrix\n",
    "from sklearn.metrics import RocCurveDisplay\n",
    "from sklearn.metrics import r2_score\n",
    "\n",
    "# ML algs\n",
    "from sklearn.ensemble import RandomForestClassifier\n",
    "from sklearn.ensemble import RandomForestRegressor\n",
    "from sklearn.neighbors import KNeighborsRegressor\n",
    "from sklearn.neural_network import MLPRegressor"
   ]
  },
  {
   "cell_type": "markdown",
   "id": "d9162d70-0bf3-4f23-ac40-a98760068003",
   "metadata": {},
   "source": [
    "# Data preparation\n",
    "We plan to predict the user type (subscriber or customer) and the duration of trip using a few given features."
   ]
  },
  {
   "cell_type": "code",
   "execution_count": 2,
   "id": "2cb2cca6-6902-48fa-b712-c4380640e8c9",
   "metadata": {},
   "outputs": [
    {
     "data": {
      "text/html": [
       "<div>\n",
       "<style scoped>\n",
       "    .dataframe tbody tr th:only-of-type {\n",
       "        vertical-align: middle;\n",
       "    }\n",
       "\n",
       "    .dataframe tbody tr th {\n",
       "        vertical-align: top;\n",
       "    }\n",
       "\n",
       "    .dataframe thead th {\n",
       "        text-align: right;\n",
       "    }\n",
       "</style>\n",
       "<table border=\"1\" class=\"dataframe\">\n",
       "  <thead>\n",
       "    <tr style=\"text-align: right;\">\n",
       "      <th></th>\n",
       "      <th>lat</th>\n",
       "      <th>lon</th>\n",
       "      <th>wday</th>\n",
       "      <th>hour</th>\n",
       "      <th>usertype</th>\n",
       "      <th>trip_dur</th>\n",
       "    </tr>\n",
       "  </thead>\n",
       "  <tbody>\n",
       "    <tr>\n",
       "      <th>0</th>\n",
       "      <td>40.736245</td>\n",
       "      <td>-73.984738</td>\n",
       "      <td>1</td>\n",
       "      <td>20</td>\n",
       "      <td>Subscriber</td>\n",
       "      <td>5.216667</td>\n",
       "    </tr>\n",
       "    <tr>\n",
       "      <th>1</th>\n",
       "      <td>40.730477</td>\n",
       "      <td>-73.999061</td>\n",
       "      <td>4</td>\n",
       "      <td>8</td>\n",
       "      <td>Subscriber</td>\n",
       "      <td>6.116667</td>\n",
       "    </tr>\n",
       "    <tr>\n",
       "      <th>2</th>\n",
       "      <td>40.735354</td>\n",
       "      <td>-74.004831</td>\n",
       "      <td>4</td>\n",
       "      <td>8</td>\n",
       "      <td>Subscriber</td>\n",
       "      <td>15.950000</td>\n",
       "    </tr>\n",
       "    <tr>\n",
       "      <th>3</th>\n",
       "      <td>40.760193</td>\n",
       "      <td>-73.991255</td>\n",
       "      <td>3</td>\n",
       "      <td>22</td>\n",
       "      <td>Subscriber</td>\n",
       "      <td>15.450000</td>\n",
       "    </tr>\n",
       "    <tr>\n",
       "      <th>4</th>\n",
       "      <td>40.711464</td>\n",
       "      <td>-74.005524</td>\n",
       "      <td>6</td>\n",
       "      <td>7</td>\n",
       "      <td>Subscriber</td>\n",
       "      <td>11.583333</td>\n",
       "    </tr>\n",
       "  </tbody>\n",
       "</table>\n",
       "</div>"
      ],
      "text/plain": [
       "         lat        lon  wday  hour    usertype   trip_dur\n",
       "0  40.736245 -73.984738     1    20  Subscriber   5.216667\n",
       "1  40.730477 -73.999061     4     8  Subscriber   6.116667\n",
       "2  40.735354 -74.004831     4     8  Subscriber  15.950000\n",
       "3  40.760193 -73.991255     3    22  Subscriber  15.450000\n",
       "4  40.711464 -74.005524     6     7  Subscriber  11.583333"
      ]
     },
     "execution_count": 2,
     "metadata": {},
     "output_type": "execute_result"
    }
   ],
   "source": [
    "dat = pd.read_csv('../data.csv', parse_dates=['starttime', 'stoptime']).rename(columns={\n",
    "    'start.station.latitude': 'lat',\n",
    "    'start.station.longitude': 'lon'\n",
    "    })\n",
    "\n",
    "# define day of week, hour of day, and day-time of week for the starting time\n",
    "dat['wday'] = dat['starttime'].dt.dayofweek\n",
    "dat['hour'] = dat['starttime'].dt.hour\n",
    "dat['wdaytime'] = dat['wday'] + dat['hour']/24.0\n",
    "\n",
    "# duration of trip: convert seconds to minutes\n",
    "dat['trip_dur'] = dat['tripduration']/60.0\n",
    "\n",
    "# predictors: lat, lon, wday, and hour\n",
    "# labels: usertype (class) and trip_dur (numeric)\n",
    "dat = dat[['lat', 'lon', 'wday', 'hour', 'usertype', 'trip_dur']]\n",
    "dat.head()"
   ]
  },
  {
   "cell_type": "code",
   "execution_count": 3,
   "id": "79770abb-4800-4f27-a0dd-82b4565e4d73",
   "metadata": {},
   "outputs": [
    {
     "name": "stdout",
     "output_type": "stream",
     "text": [
      "Class counts for usertype:\n",
      "usertype\n",
      "Subscriber    43781\n",
      "Customer       6219\n",
      "Name: count, dtype: int64\n",
      "\n",
      "Distribution of trip_dur:\n",
      "count    50000.000000\n",
      "mean        14.311048\n",
      "std         14.348527\n",
      "min          1.000000\n",
      "25%          6.800000\n",
      "50%         10.816667\n",
      "75%         17.833333\n",
      "max        346.200000\n",
      "Name: trip_dur, dtype: float64\n"
     ]
    }
   ],
   "source": [
    "# predictors\n",
    "X = dat[['lat', 'lon', 'wday', 'hour']]\n",
    "\n",
    "# label for classification\n",
    "Y = dat['usertype']\n",
    "print('Class counts for usertype:\\n{}'.format(Y.value_counts(dropna=False)))\n",
    "\n",
    "# label for regression\n",
    "Z = dat['trip_dur']\n",
    "print('\\nDistribution of trip_dur:\\n{}'.format(Z.describe()))"
   ]
  },
  {
   "cell_type": "markdown",
   "id": "3cdd89b9-27df-4f09-99d7-ebc112fb7a3e",
   "metadata": {},
   "source": [
    "# Train classifier to predict usertype"
   ]
  },
  {
   "cell_type": "markdown",
   "id": "89c7c7d6-bc51-4d28-89dc-e9ace4f98ec2",
   "metadata": {},
   "source": [
    "## Create and train model"
   ]
  },
  {
   "cell_type": "code",
   "execution_count": 4,
   "id": "d4e017aa-9ddc-4145-8ad6-3ef9d20b51fc",
   "metadata": {},
   "outputs": [
    {
     "data": {
      "text/html": [
       "<style>#sk-container-id-1 {color: black;}#sk-container-id-1 pre{padding: 0;}#sk-container-id-1 div.sk-toggleable {background-color: white;}#sk-container-id-1 label.sk-toggleable__label {cursor: pointer;display: block;width: 100%;margin-bottom: 0;padding: 0.3em;box-sizing: border-box;text-align: center;}#sk-container-id-1 label.sk-toggleable__label-arrow:before {content: \"▸\";float: left;margin-right: 0.25em;color: #696969;}#sk-container-id-1 label.sk-toggleable__label-arrow:hover:before {color: black;}#sk-container-id-1 div.sk-estimator:hover label.sk-toggleable__label-arrow:before {color: black;}#sk-container-id-1 div.sk-toggleable__content {max-height: 0;max-width: 0;overflow: hidden;text-align: left;background-color: #f0f8ff;}#sk-container-id-1 div.sk-toggleable__content pre {margin: 0.2em;color: black;border-radius: 0.25em;background-color: #f0f8ff;}#sk-container-id-1 input.sk-toggleable__control:checked~div.sk-toggleable__content {max-height: 200px;max-width: 100%;overflow: auto;}#sk-container-id-1 input.sk-toggleable__control:checked~label.sk-toggleable__label-arrow:before {content: \"▾\";}#sk-container-id-1 div.sk-estimator input.sk-toggleable__control:checked~label.sk-toggleable__label {background-color: #d4ebff;}#sk-container-id-1 div.sk-label input.sk-toggleable__control:checked~label.sk-toggleable__label {background-color: #d4ebff;}#sk-container-id-1 input.sk-hidden--visually {border: 0;clip: rect(1px 1px 1px 1px);clip: rect(1px, 1px, 1px, 1px);height: 1px;margin: -1px;overflow: hidden;padding: 0;position: absolute;width: 1px;}#sk-container-id-1 div.sk-estimator {font-family: monospace;background-color: #f0f8ff;border: 1px dotted black;border-radius: 0.25em;box-sizing: border-box;margin-bottom: 0.5em;}#sk-container-id-1 div.sk-estimator:hover {background-color: #d4ebff;}#sk-container-id-1 div.sk-parallel-item::after {content: \"\";width: 100%;border-bottom: 1px solid gray;flex-grow: 1;}#sk-container-id-1 div.sk-label:hover label.sk-toggleable__label {background-color: #d4ebff;}#sk-container-id-1 div.sk-serial::before {content: \"\";position: absolute;border-left: 1px solid gray;box-sizing: border-box;top: 0;bottom: 0;left: 50%;z-index: 0;}#sk-container-id-1 div.sk-serial {display: flex;flex-direction: column;align-items: center;background-color: white;padding-right: 0.2em;padding-left: 0.2em;position: relative;}#sk-container-id-1 div.sk-item {position: relative;z-index: 1;}#sk-container-id-1 div.sk-parallel {display: flex;align-items: stretch;justify-content: center;background-color: white;position: relative;}#sk-container-id-1 div.sk-item::before, #sk-container-id-1 div.sk-parallel-item::before {content: \"\";position: absolute;border-left: 1px solid gray;box-sizing: border-box;top: 0;bottom: 0;left: 50%;z-index: -1;}#sk-container-id-1 div.sk-parallel-item {display: flex;flex-direction: column;z-index: 1;position: relative;background-color: white;}#sk-container-id-1 div.sk-parallel-item:first-child::after {align-self: flex-end;width: 50%;}#sk-container-id-1 div.sk-parallel-item:last-child::after {align-self: flex-start;width: 50%;}#sk-container-id-1 div.sk-parallel-item:only-child::after {width: 0;}#sk-container-id-1 div.sk-dashed-wrapped {border: 1px dashed gray;margin: 0 0.4em 0.5em 0.4em;box-sizing: border-box;padding-bottom: 0.4em;background-color: white;}#sk-container-id-1 div.sk-label label {font-family: monospace;font-weight: bold;display: inline-block;line-height: 1.2em;}#sk-container-id-1 div.sk-label-container {text-align: center;}#sk-container-id-1 div.sk-container {/* jupyter's `normalize.less` sets `[hidden] { display: none; }` but bootstrap.min.css set `[hidden] { display: none !important; }` so we also need the `!important` here to be able to override the default hidden behavior on the sphinx rendered scikit-learn.org. See: https://github.com/scikit-learn/scikit-learn/issues/21755 */display: inline-block !important;position: relative;}#sk-container-id-1 div.sk-text-repr-fallback {display: none;}</style><div id=\"sk-container-id-1\" class=\"sk-top-container\"><div class=\"sk-text-repr-fallback\"><pre>RandomForestClassifier(class_weight=&#x27;balanced&#x27;, max_depth=3, max_samples=0.5,\n",
       "                       random_state=0)</pre><b>In a Jupyter environment, please rerun this cell to show the HTML representation or trust the notebook. <br />On GitHub, the HTML representation is unable to render, please try loading this page with nbviewer.org.</b></div><div class=\"sk-container\" hidden><div class=\"sk-item\"><div class=\"sk-estimator sk-toggleable\"><input class=\"sk-toggleable__control sk-hidden--visually\" id=\"sk-estimator-id-1\" type=\"checkbox\" checked><label for=\"sk-estimator-id-1\" class=\"sk-toggleable__label sk-toggleable__label-arrow\">RandomForestClassifier</label><div class=\"sk-toggleable__content\"><pre>RandomForestClassifier(class_weight=&#x27;balanced&#x27;, max_depth=3, max_samples=0.5,\n",
       "                       random_state=0)</pre></div></div></div></div></div>"
      ],
      "text/plain": [
       "RandomForestClassifier(class_weight='balanced', max_depth=3, max_samples=0.5,\n",
       "                       random_state=0)"
      ]
     },
     "execution_count": 4,
     "metadata": {},
     "output_type": "execute_result"
    }
   ],
   "source": [
    "# split training and test data to predict Y (usertype)\n",
    "Xy_train, Xy_test, Y_train, Y_test = train_test_split(\n",
    "    X, Y, test_size=0.2, random_state=1)\n",
    "\n",
    "# normalize data for Y\n",
    "scaler_y = StandardScaler()\n",
    "scaler_y.fit(Xy_train)\n",
    "Xy_train_scaled = scaler_y.transform(Xy_train)\n",
    "Xy_test_scaled = scaler_y.transform(Xy_test)\n",
    "\n",
    "# create model\n",
    "model_y = RandomForestClassifier(\n",
    "    max_depth=3,\n",
    "    max_samples=0.5,\n",
    "    random_state=0,\n",
    "    # there are far more subscribers than customers, so without balancing the classes,\n",
    "    # the model will simply predict every case as subscriber and gets >85% accuracy\n",
    "    class_weight='balanced'\n",
    ")\n",
    "\n",
    "# train model\n",
    "model_y.fit(Xy_train_scaled, Y_train)"
   ]
  },
  {
   "cell_type": "markdown",
   "id": "11a0f5ab-c300-46f5-9a58-0f646eeb46a1",
   "metadata": {},
   "source": [
    "## Inspect model"
   ]
  },
  {
   "cell_type": "code",
   "execution_count": 5,
   "id": "bd8e6c05-fdff-4ae0-b619-2df011b9f6b2",
   "metadata": {},
   "outputs": [
    {
     "name": "stdout",
     "output_type": "stream",
     "text": [
      "CV accuracy 0.7140253971326035 +/- 0.012621731282936107\n"
     ]
    }
   ],
   "source": [
    "# score trained model with cross validation\n",
    "model_y_cv_scores = cross_val_score(model_y, Xy_train_scaled, Y_train, cv=3)\n",
    "\n",
    "# mean and deviation of accuracy in cv\n",
    "print('CV accuracy {} +/- {}'.format(np.mean(model_y_cv_scores), np.std(model_y_cv_scores)))"
   ]
  },
  {
   "cell_type": "code",
   "execution_count": 6,
   "id": "aea285ad-b3b3-47af-a48f-8cd6c5faa63e",
   "metadata": {},
   "outputs": [
    {
     "name": "stdout",
     "output_type": "stream",
     "text": [
      "Feature importances ('lat', 'lon', 'wday', 'hour'): [0.12780184 0.03470208 0.55104064 0.28645544]\n"
     ]
    }
   ],
   "source": [
    "# feature importances of ['lat', 'lon', 'wday', 'hour']\n",
    "print(\"Feature importances ('lat', 'lon', 'wday', 'hour'): {}\".format(model_y.feature_importances_))"
   ]
  },
  {
   "cell_type": "markdown",
   "id": "cdd42788-0498-4b5d-ab0e-3dc179fbe352",
   "metadata": {},
   "source": [
    "## Test result"
   ]
  },
  {
   "cell_type": "code",
   "execution_count": 7,
   "id": "fcc8ad95-ed7b-42d8-b115-c57710fb2777",
   "metadata": {},
   "outputs": [
    {
     "name": "stdout",
     "output_type": "stream",
     "text": [
      "Classification error rate = 0.2881\n"
     ]
    }
   ],
   "source": [
    "# make prediction on test data and calculate error rate\n",
    "Y_pred = model_y.predict(Xy_test_scaled)\n",
    "model_y_error_rate = zero_one_loss(Y_test, Y_pred, normalize=True)\n",
    "print('Classification error rate = {}'.format(model_y_error_rate))"
   ]
  },
  {
   "cell_type": "code",
   "execution_count": 8,
   "id": "a8be2b43-6ed9-4ec6-ba59-aeee0f07614f",
   "metadata": {},
   "outputs": [
    {
     "data": {
      "text/plain": [
       "array([[ 792,  549],\n",
       "       [2332, 6327]])"
      ]
     },
     "execution_count": 8,
     "metadata": {},
     "output_type": "execute_result"
    }
   ],
   "source": [
    "# confusion matrix for binary classification (subscriber vs. customer)\n",
    "confusion_matrix(Y_test, Y_pred, labels=['Customer', 'Subscriber'])"
   ]
  },
  {
   "cell_type": "markdown",
   "id": "0af2a2ec-79f7-485a-8590-6c892cae1815",
   "metadata": {},
   "source": [
    "Taking Cusomer as positive and Subscriber as negative, the confusion matrix shows: true positive = 792, false negative = 549, false positive = 2332, true negative = 6327.\n",
    "\n",
    "The sensitivity (TP rate) is 792 / (792 + 549) = 59% which sounds OK if we use this model to cover positive cases--59% of real Customers are identified by the model. But the precision is 792 / (792 + 2332) = 25% which means 75% of what the model identifies as Customers are in fact Subscribers. Whether this is a problem depends on the actual use of the model."
   ]
  },
  {
   "cell_type": "code",
   "execution_count": 9,
   "id": "1823389c-92c3-4bd7-b3bc-a33d3a810f59",
   "metadata": {},
   "outputs": [
    {
     "data": {
      "image/png": "[encoded data removed]",
      "text/plain": [
       "<Figure size 640x480 with 1 Axes>"
      ]
     },
     "metadata": {},
     "output_type": "display_data"
    }
   ],
   "source": [
    "# ROC curve\n",
    "model_y_roc = RocCurveDisplay.from_estimator(model_y, Xy_test_scaled, Y_test, pos_label='Customer')"
   ]
  },
  {
   "cell_type": "markdown",
   "id": "2c0bf4fa-8ae2-484b-9474-51d907d2d6b5",
   "metadata": {},
   "source": [
    "The ROC curve shows that there's no natural sweet spot to predict Customers. Instead based on the goal of the model, we can choose what's the most important (high TP rate vs. low FP rate)."
   ]
  },
  {
   "cell_type": "markdown",
   "id": "716b2dd7-ec3f-4881-ba8c-609ae95cdd62",
   "metadata": {},
   "source": [
    "# Train regressor to predict trip_dur"
   ]
  },
  {
   "cell_type": "markdown",
   "id": "09ea0a61-5091-46bc-98b5-5b90864c7ed4",
   "metadata": {},
   "source": [
    "## Create and train model"
   ]
  },
  {
   "cell_type": "code",
   "execution_count": 10,
   "id": "3bbba29c-ede5-47c6-896f-c40ddeb11a28",
   "metadata": {},
   "outputs": [
    {
     "data": {
      "text/html": [
       "<style>#sk-container-id-2 {color: black;}#sk-container-id-2 pre{padding: 0;}#sk-container-id-2 div.sk-toggleable {background-color: white;}#sk-container-id-2 label.sk-toggleable__label {cursor: pointer;display: block;width: 100%;margin-bottom: 0;padding: 0.3em;box-sizing: border-box;text-align: center;}#sk-container-id-2 label.sk-toggleable__label-arrow:before {content: \"▸\";float: left;margin-right: 0.25em;color: #696969;}#sk-container-id-2 label.sk-toggleable__label-arrow:hover:before {color: black;}#sk-container-id-2 div.sk-estimator:hover label.sk-toggleable__label-arrow:before {color: black;}#sk-container-id-2 div.sk-toggleable__content {max-height: 0;max-width: 0;overflow: hidden;text-align: left;background-color: #f0f8ff;}#sk-container-id-2 div.sk-toggleable__content pre {margin: 0.2em;color: black;border-radius: 0.25em;background-color: #f0f8ff;}#sk-container-id-2 input.sk-toggleable__control:checked~div.sk-toggleable__content {max-height: 200px;max-width: 100%;overflow: auto;}#sk-container-id-2 input.sk-toggleable__control:checked~label.sk-toggleable__label-arrow:before {content: \"▾\";}#sk-container-id-2 div.sk-estimator input.sk-toggleable__control:checked~label.sk-toggleable__label {background-color: #d4ebff;}#sk-container-id-2 div.sk-label input.sk-toggleable__control:checked~label.sk-toggleable__label {background-color: #d4ebff;}#sk-container-id-2 input.sk-hidden--visually {border: 0;clip: rect(1px 1px 1px 1px);clip: rect(1px, 1px, 1px, 1px);height: 1px;margin: -1px;overflow: hidden;padding: 0;position: absolute;width: 1px;}#sk-container-id-2 div.sk-estimator {font-family: monospace;background-color: #f0f8ff;border: 1px dotted black;border-radius: 0.25em;box-sizing: border-box;margin-bottom: 0.5em;}#sk-container-id-2 div.sk-estimator:hover {background-color: #d4ebff;}#sk-container-id-2 div.sk-parallel-item::after {content: \"\";width: 100%;border-bottom: 1px solid gray;flex-grow: 1;}#sk-container-id-2 div.sk-label:hover label.sk-toggleable__label {background-color: #d4ebff;}#sk-container-id-2 div.sk-serial::before {content: \"\";position: absolute;border-left: 1px solid gray;box-sizing: border-box;top: 0;bottom: 0;left: 50%;z-index: 0;}#sk-container-id-2 div.sk-serial {display: flex;flex-direction: column;align-items: center;background-color: white;padding-right: 0.2em;padding-left: 0.2em;position: relative;}#sk-container-id-2 div.sk-item {position: relative;z-index: 1;}#sk-container-id-2 div.sk-parallel {display: flex;align-items: stretch;justify-content: center;background-color: white;position: relative;}#sk-container-id-2 div.sk-item::before, #sk-container-id-2 div.sk-parallel-item::before {content: \"\";position: absolute;border-left: 1px solid gray;box-sizing: border-box;top: 0;bottom: 0;left: 50%;z-index: -1;}#sk-container-id-2 div.sk-parallel-item {display: flex;flex-direction: column;z-index: 1;position: relative;background-color: white;}#sk-container-id-2 div.sk-parallel-item:first-child::after {align-self: flex-end;width: 50%;}#sk-container-id-2 div.sk-parallel-item:last-child::after {align-self: flex-start;width: 50%;}#sk-container-id-2 div.sk-parallel-item:only-child::after {width: 0;}#sk-container-id-2 div.sk-dashed-wrapped {border: 1px dashed gray;margin: 0 0.4em 0.5em 0.4em;box-sizing: border-box;padding-bottom: 0.4em;background-color: white;}#sk-container-id-2 div.sk-label label {font-family: monospace;font-weight: bold;display: inline-block;line-height: 1.2em;}#sk-container-id-2 div.sk-label-container {text-align: center;}#sk-container-id-2 div.sk-container {/* jupyter's `normalize.less` sets `[hidden] { display: none; }` but bootstrap.min.css set `[hidden] { display: none !important; }` so we also need the `!important` here to be able to override the default hidden behavior on the sphinx rendered scikit-learn.org. See: https://github.com/scikit-learn/scikit-learn/issues/21755 */display: inline-block !important;position: relative;}#sk-container-id-2 div.sk-text-repr-fallback {display: none;}</style><div id=\"sk-container-id-2\" class=\"sk-top-container\"><div class=\"sk-text-repr-fallback\"><pre>MLPRegressor(hidden_layer_sizes=(50, 25), learning_rate=&#x27;invscaling&#x27;,\n",
       "             max_iter=300, random_state=0)</pre><b>In a Jupyter environment, please rerun this cell to show the HTML representation or trust the notebook. <br />On GitHub, the HTML representation is unable to render, please try loading this page with nbviewer.org.</b></div><div class=\"sk-container\" hidden><div class=\"sk-item\"><div class=\"sk-estimator sk-toggleable\"><input class=\"sk-toggleable__control sk-hidden--visually\" id=\"sk-estimator-id-2\" type=\"checkbox\" checked><label for=\"sk-estimator-id-2\" class=\"sk-toggleable__label sk-toggleable__label-arrow\">MLPRegressor</label><div class=\"sk-toggleable__content\"><pre>MLPRegressor(hidden_layer_sizes=(50, 25), learning_rate=&#x27;invscaling&#x27;,\n",
       "             max_iter=300, random_state=0)</pre></div></div></div></div></div>"
      ],
      "text/plain": [
       "MLPRegressor(hidden_layer_sizes=(50, 25), learning_rate='invscaling',\n",
       "             max_iter=300, random_state=0)"
      ]
     },
     "execution_count": 10,
     "metadata": {},
     "output_type": "execute_result"
    }
   ],
   "source": [
    "# split training and test data to predict Z (trip_dur)\n",
    "Xz_train, Xz_test, Z_train, Z_test = train_test_split(\n",
    "    X, Z, test_size=0.2, random_state=1)\n",
    "\n",
    "# normalize data for Z\n",
    "scaler_z = StandardScaler()\n",
    "scaler_z.fit(Xz_train)\n",
    "Xz_train_scaled = scaler_z.transform(Xz_train)\n",
    "Xz_test_scaled = scaler_z.transform(Xz_test)\n",
    "\n",
    "# create model\n",
    "model_z = MLPRegressor(hidden_layer_sizes=(50, 25, ),\n",
    "                       activation='relu',\n",
    "                       alpha=0.0001,\n",
    "                       max_iter=300,\n",
    "                       learning_rate='invscaling',\n",
    "                       random_state=0)\n",
    "# model_z = KNeighborsRegressor(n_neighbors=500)\n",
    "# model_z = RandomForestRegressor(max_depth=4, max_samples=0.5, random_state=0)\n",
    "\n",
    "# train model\n",
    "model_z.fit(Xz_train_scaled, Z_train)"
   ]
  },
  {
   "cell_type": "markdown",
   "id": "11e05daa-639a-45f4-98d6-47974eeced3b",
   "metadata": {},
   "source": [
    "## Inspect model"
   ]
  },
  {
   "cell_type": "code",
   "execution_count": 11,
   "id": "8c5937d3-7f70-46cd-89c1-caaed7fe85b6",
   "metadata": {},
   "outputs": [
    {
     "data": {
      "text/plain": [
       "[<matplotlib.lines.Line2D at 0x7f023b5d4e50>]"
      ]
     },
     "execution_count": 11,
     "metadata": {},
     "output_type": "execute_result"
    },
    {
     "data": {
      "image/png": "[encoded data removed]",
      "text/plain": [
       "<Figure size 640x480 with 1 Axes>"
      ]
     },
     "metadata": {},
     "output_type": "display_data"
    }
   ],
   "source": [
    "# check how the loss decreases in training\n",
    "plt.plot(model_z.loss_curve_)"
   ]
  },
  {
   "cell_type": "code",
   "execution_count": 12,
   "id": "da338763-acc9-4145-9dec-3c20143abaff",
   "metadata": {},
   "outputs": [
    {
     "name": "stdout",
     "output_type": "stream",
     "text": [
      "CV ccuracy 0.04054042227435987 +/- 0.005343509423974904\n"
     ]
    }
   ],
   "source": [
    "# score trained model with cross validation\n",
    "model_z_cv_scores = cross_val_score(model_z, Xz_train_scaled, Z_train, cv=3)\n",
    "\n",
    "# mean and deviation of accuracy in cv\n",
    "print('CV ccuracy {} +/- {}'.format(np.mean(model_z_cv_scores), np.std(model_z_cv_scores)))"
   ]
  },
  {
   "cell_type": "markdown",
   "id": "45b707f7-6f6a-4f40-b976-f66329d162b0",
   "metadata": {},
   "source": [
    "## Test result"
   ]
  },
  {
   "cell_type": "code",
   "execution_count": 13,
   "id": "56a627d6-bdc1-4642-827b-491d01eb5c75",
   "metadata": {},
   "outputs": [
    {
     "name": "stdout",
     "output_type": "stream",
     "text": [
      "Regression MAE = 7.836058693051617\n",
      "Regression R2 = 0.041876373571639425\n"
     ]
    }
   ],
   "source": [
    "Z_pred = model_z.predict(Xz_test_scaled)\n",
    "model_z_mae = mean_absolute_error(Z_test, Z_pred)\n",
    "print('Regression MAE = {}'.format(model_z_mae))\n",
    "model_z_r2 = r2_score(Z_test, Z_pred)\n",
    "print('Regression R2 = {}'.format(model_z_r2))"
   ]
  }
 ],
 "metadata": {
  "kernelspec": {
   "display_name": "Python 3 (ipykernel)",
   "language": "python",
   "name": "python3"
  },
  "language_info": {
   "codemirror_mode": {
    "name": "ipython",
    "version": 3
   },
   "file_extension": ".py",
   "mimetype": "text/x-python",
   "name": "python",
   "nbconvert_exporter": "python",
   "pygments_lexer": "ipython3",
   "version": "3.10.12"
  }
 },
 "nbformat": 4,
 "nbformat_minor": 5
}
